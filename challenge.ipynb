{
 "cells": [
  {
   "cell_type": "markdown",
   "source": [
    "MUHAMMAD FAUZAN YASYKUR\n",
    "20102041\n",
    "IF3"
   ],
   "metadata": {
    "collapsed": false
   }
  },
  {
   "cell_type": "code",
   "execution_count": 2,
   "metadata": {
    "collapsed": true,
    "ExecuteTime": {
     "start_time": "2023-06-19T12:30:24.749144Z",
     "end_time": "2023-06-19T12:30:24.990666Z"
    }
   },
   "outputs": [],
   "source": [
    "from selenium import webdriver\n",
    "from selenium.webdriver.edge.options import Options\n",
    "from selenium.webdriver.common.keys import Keys\n",
    "from selenium.webdriver.common.by import By"
   ]
  },
  {
   "cell_type": "code",
   "execution_count": 3,
   "outputs": [
    {
     "name": "stderr",
     "output_type": "stream",
     "text": [
      "C:\\Users\\MF YASYKUR\\AppData\\Local\\Temp\\ipykernel_9908\\4134982065.py:8: DeprecationWarning: executable_path has been deprecated, please pass in a Service object\n",
      "  driver = webdriver.Edge(options = edge_options, executable_path=\"./msedgedriver.exe\")\n"
     ]
    }
   ],
   "source": [
    "# init browser\n",
    "\n",
    "edge_options = Options()\n",
    "\n",
    "# edge_options.add_argument(\"--headless\")\n",
    "edge_options.add_argument(\"--incognito\")\n",
    "edge_options.add_argument('--window-size=1920,1080')\n",
    "driver = webdriver.Edge(options = edge_options, executable_path=\"driver/msedgedriver.exe\")\n",
    "driver.get(\"https://www.instagram.com/\")"
   ],
   "metadata": {
    "collapsed": false,
    "ExecuteTime": {
     "start_time": "2023-06-19T12:30:43.789169Z",
     "end_time": "2023-06-19T12:30:59.638736Z"
    }
   }
  },
  {
   "cell_type": "code",
   "execution_count": 4,
   "outputs": [],
   "source": [
    "#Login\n",
    "username = driver.find_element(By.XPATH, \"/html/body/div[2]/div/div/div[1]/div/div/div/div[1]/section/main/article/div[2]/div[1]/div[2]/form/div/div[1]/div/label/input\")\n",
    "username.clear()\n",
    "username.send_keys(\"mf.yasy***\")\n",
    "\n",
    "password = driver.find_element(By.XPATH, \"/html/body/div[2]/div/div/div[1]/div/div/div/div[1]/section/main/article/div[2]/div[1]/div[2]/form/div/div[2]/div/label/input\")\n",
    "password.clear()\n",
    "password.send_keys(\"09011n5t49r4my45ykur_T3***\")\n",
    "\n",
    "login_button = driver.find_element(By.XPATH, \"/html/body/div[2]/div/div/div[1]/div/div/div/div[1]/section/main/article/div[2]/div[1]/div[2]/form/div/div[3]/button/div\")\n",
    "login_button.click()"
   ],
   "metadata": {
    "collapsed": false,
    "ExecuteTime": {
     "start_time": "2023-06-19T12:31:10.350890Z",
     "end_time": "2023-06-19T12:31:11.561514Z"
    }
   }
  },
  {
   "cell_type": "code",
   "execution_count": 5,
   "outputs": [],
   "source": [
    "#Search Account Page\n",
    "search_button = driver.find_element(By.XPATH, \"/html/body/div[2]/div/div/div[2]/div/div/div/div[1]/div[1]/div[1]/div/div/div/div/div[2]/div[2]/span/div/a/div/div[1]/div\")\n",
    "search_button.click()\n",
    "\n",
    "search_box = driver.find_element(By.XPATH, \"/html/body/div[2]/div/div/div[2]/div/div/div/div[1]/div[1]/div[1]/div/div/div[2]/div/div/div[2]/div[1]/div/input\")\n",
    "search_box.clear()\n",
    "search_box.send_keys(\"ittelkompurwokerto\")\n",
    "search_box.send_keys(Keys.ENTER)"
   ],
   "metadata": {
    "collapsed": false,
    "ExecuteTime": {
     "start_time": "2023-06-19T12:31:40.416855Z",
     "end_time": "2023-06-19T12:31:41.119028Z"
    }
   }
  },
  {
   "cell_type": "code",
   "execution_count": 6,
   "outputs": [
    {
     "data": {
      "text/plain": "'ittelkompurwokertoINSTITUT TEKNOLOGI TELKOM PURWOKERTO • Followed by radenakhfa_27 + 295 more'"
     },
     "execution_count": 6,
     "metadata": {},
     "output_type": "execute_result"
    }
   ],
   "source": [
    "account_page = driver.find_element(By.XPATH, \"/html/body/div[2]/div/div/div[2]/div/div/div/div[1]/div[1]/div[1]/div/div/div[2]/div/div/div[2]/div[2]/div/div[1]\")\n",
    "account_page.click()\n",
    "account_page.get_attribute(\"textContent\")"
   ],
   "metadata": {
    "collapsed": false,
    "ExecuteTime": {
     "start_time": "2023-06-19T12:31:44.703534Z",
     "end_time": "2023-06-19T12:31:45.538132Z"
    }
   }
  },
  {
   "cell_type": "code",
   "execution_count": 7,
   "outputs": [],
   "source": [
    "# Click to feed post\n",
    "feed = driver.find_element(By.CLASS_NAME, \"_aagw\")\n",
    "feed.click()"
   ],
   "metadata": {
    "collapsed": false,
    "ExecuteTime": {
     "start_time": "2023-06-19T12:31:58.752391Z",
     "end_time": "2023-06-19T12:31:59.139854Z"
    }
   }
  },
  {
   "cell_type": "code",
   "execution_count": 11,
   "outputs": [
    {
     "name": "stdout",
     "output_type": "stream",
     "text": [
      "Feed 1:\n",
      "Jumlah komentar: 4\n",
      "car_olxoxo: Aaaaak keren bangettt😍😍😍\n",
      "\n",
      "iics2023: Join us @iics2023Indonesia International Career Show JAKARTA16 - 17 Juni 2023@ICE- BSD CITY HALL-10 150 Company Hiring and Branding.Info : www.indonesiacareerexpo.comJl. BSD Grand Boulevard No.1\n",
      "\n",
      "smtthlikeyou_: Tut wuri handayani\n",
      "\n",
      "dkvbermain: OoOmMmgggGG😮😮😮😮mamahhhhhh, aku kuliah di salah satu perguruan tinggi terbaik di duniaaaa 😍🥰😆\n",
      "\n",
      "Feed 2:\n",
      "Jumlah komentar: 8\n",
      "alvnauraa_: Terakhir pendaftaran kapan yaa....minta infonya dong kak\n",
      "\n",
      "magangjogjaku: 😍😍😍😍\n",
      "\n",
      "yaldifadhil_: @muhammad.nafiiss @_rfjwl @aan_fitrah mari kita sama sama masuk ke it telkom purwokerto\n",
      "\n",
      "joicemeidina_: @gabriellanelvin @niya.gaurifa @natakeshi_ ayo daftar di ittp!\n",
      "\n",
      "rioktvian_: Ayo Zoin ITTP!!! @scinrpdlh @dikdik_012 @arifebriannn @tjotjonut\n",
      "\n",
      "islhzhra: @adelliashal_\n",
      "\n",
      "nez.gmy_: @yudhis_gaiden\n",
      "\n",
      "msulthonnz: @mfth.zyy\n",
      "\n",
      "Feed 3:\n",
      "Jumlah komentar: 3\n",
      "bdv.ittp: Selamat dan Tetap Semangat!\n",
      "\n",
      "arnf17_: Bismillah semoga masuk @ownernya_miami @fimhmd_ @arqlthf\n",
      "\n",
      "faiii_5s: @sipitt_wulan @ekofaizin428 @faiii_5s\n",
      "\n",
      "Feed 4:\n",
      "Jumlah komentar: 12\n",
      "fadilla_daa: 🔥\n",
      "\n",
      "ratihalifah: Karya UTS aja Seru, apalagi karya UAS 😃, lagi hits banget loh bikin Animasi 3D.. yuk kuliah di S1 DKV IT Telkom Purwokerto, nnt diajarin bikin love versi 3D hehehe 😍\n",
      "\n",
      "regina_permata1: Bukan cuma keren videonya, karyanya juga keren abizz🤩\n",
      "\n",
      "hakimal_03: Kelasss, keren banget🔥\n",
      "\n",
      "dadiekpranindito: Wah keren2 karya mahasiswa DKV ITTP..\n",
      "\n",
      "zatechzoo: Jadi pingin masuk dkv😍\n",
      "\n",
      "dkvbermain: absen dkv semester 6 ☝🏻😋 matkul terseru nih gusyyy 😍 ayo gabung dkv di institut no 1 di indonesia 🥰\n",
      "\n",
      "falnamverse: Bismillah masuk DKV🥰\n",
      "\n",
      "ruhdi7: Sering-sering bikin konten gini🔥\n",
      "\n",
      "rpl.06b: Bagus sekali ini, bisa menaikkan nilai produk UMKM dengan desain-desain seperti ini. Keren DKV😎\n",
      "\n",
      "ismola._: Keren banget kak😍\n",
      "\n",
      "v.fahkhrnnsa_: @ayhfadh_ keren bgt uu😍\n",
      "\n",
      "Feed 5:\n",
      "Jumlah komentar: 7\n",
      "rafi_ludyra: ❤️❤️\n",
      "\n",
      "377myhttt_: 🔥🔥\n",
      "\n",
      "chila_kurniawan: Semangat terus ya le @theodorebizta.58 ❤️❤️\n",
      "\n",
      "chaylaravanelly_: Gratsss @kholifahdinaa @shafalya11 @warkop05_ mas David dan sekeluarga pasti bangga😍\n",
      "\n",
      "mbakmariaana: @theodorebizta.58 ❤️❤️\n",
      "\n",
      "mhmdfhry_: @setyanold_17 gass\n",
      "\n",
      "febriani_tzkynps: Contrast @shafalya11 @rsln.ald @dmp.mus 🙌\n",
      "\n",
      "Feed 6:\n",
      "Jumlah komentar: 1\n",
      "britania.purwokerto: Tetep semangat kak\n",
      "\n"
     ]
    }
   ],
   "source": [
    "# Scrap comments in 6 feeds\n",
    "\n",
    "commentsList_Xpath = []\n",
    "\n",
    "for n in range(6):\n",
    "    comments_block = driver.find_elements(By.CLASS_NAME, \"_a9ym\")\n",
    "    commentsList_Xpath.clear()\n",
    "    if n == 0:\n",
    "        for x in range(len(comments_block)):\n",
    "            each_comment = driver.find_element(By.XPATH, f\"/html/body/div[2]/div/div/div[3]/div/div/div[1]/div/div[3]/div/div/div/div/div[2]/div/article/div/div[2]/div/div/div[2]/div[1]/ul/ul[{x+1}]/div/li/div/div/div[2]/div[1]\").get_attribute(\"textContent\")\n",
    "            each_sender = driver.find_element(By.XPATH, f\"/html/body/div[2]/div/div/div[3]/div/div/div[1]/div/div[3]/div/div/div/div/div[2]/div/article/div/div[2]/div/div/div[2]/div[1]/ul/ul[{x+1}]/div/li/div/div/div[2]/h3\").get_attribute(\"textContent\")\n",
    "            commentsList_Xpath.append(each_sender + \": \" + each_comment)\n",
    "\n",
    "        # Click navigation feed button\n",
    "        next_nav = driver.find_element(By.XPATH, \"/html/body/div[2]/div/div/div[3]/div/div/div[1]/div/div[3]/div/div/div/div/div[1]/div/div/div[1]/button\")\n",
    "        next_nav.click()\n",
    "\n",
    "    else:\n",
    "        for x in range(len(comments_block)):\n",
    "            each_comment = driver.find_element(By.XPATH, f\"/html/body/div[2]/div/div/div[3]/div/div/div[1]/div/div[3]/div/div/div/div/div[2]/div/article/div/div[2]/div/div/div[2]/div[1]/ul/ul[{x+1}]/div/li/div/div/div[2]/div[1]\").get_attribute(\"textContent\")\n",
    "            each_sender = driver.find_element(By.XPATH, f\"/html/body/div[2]/div/div/div[3]/div/div/div[1]/div/div[3]/div/div/div/div/div[2]/div/article/div/div[2]/div/div/div[2]/div[1]/ul/ul[{x+1}]/div/li/div/div/div[2]/h3\").get_attribute(\"textContent\")\n",
    "            commentsList_Xpath.append(each_sender + \": \" + each_comment)\n",
    "\n",
    "        # Click navigation feed button\n",
    "        next_nav = driver.find_element(By.XPATH, \"/html/body/div[2]/div/div/div[3]/div/div/div[1]/div/div[3]/div/div/div/div/div[1]/div/div/div[2]/button\")\n",
    "        next_nav.click()\n",
    "\n",
    "    print(f\"Feed {n+1}:\")\n",
    "    print(\"Jumlah komentar: \" + str(len(comments_block)))\n",
    "    print(*commentsList_Xpath, sep=\"\\n\\n\")\n",
    "    print()"
   ],
   "metadata": {
    "collapsed": false,
    "ExecuteTime": {
     "start_time": "2023-06-19T12:39:29.397209Z",
     "end_time": "2023-06-19T12:39:38.468105Z"
    }
   }
  },
  {
   "cell_type": "code",
   "execution_count": null,
   "outputs": [],
   "source": [],
   "metadata": {
    "collapsed": false
   }
  }
 ],
 "metadata": {
  "kernelspec": {
   "display_name": "Python 3",
   "language": "python",
   "name": "python3"
  },
  "language_info": {
   "codemirror_mode": {
    "name": "ipython",
    "version": 2
   },
   "file_extension": ".py",
   "mimetype": "text/x-python",
   "name": "python",
   "nbconvert_exporter": "python",
   "pygments_lexer": "ipython2",
   "version": "2.7.6"
  }
 },
 "nbformat": 4,
 "nbformat_minor": 0
}
