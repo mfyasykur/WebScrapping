{
 "cells": [
  {
   "cell_type": "code",
   "execution_count": 1,
   "metadata": {
    "collapsed": true,
    "ExecuteTime": {
     "start_time": "2023-05-29T13:24:28.427489Z",
     "end_time": "2023-05-29T13:25:24.170922Z"
    }
   },
   "outputs": [
    {
     "name": "stderr",
     "output_type": "stream",
     "text": [
      "\n",
      "[notice] A new release of pip available: 22.3.1 -> 23.1.2\n",
      "[notice] To update, run: python.exe -m pip install --upgrade pip\n"
     ]
    },
    {
     "name": "stdout",
     "output_type": "stream",
     "text": [
      "Collecting selenium\n",
      "  Downloading selenium-4.9.1-py3-none-any.whl (6.6 MB)\n",
      "     ---------------------------------------- 6.6/6.6 MB 197.7 kB/s eta 0:00:00\n",
      "Collecting urllib3[socks]<3,>=1.26\n",
      "  Downloading urllib3-2.0.2-py3-none-any.whl (123 kB)\n",
      "     ------------------------------------ 123.2/123.2 kB 206.6 kB/s eta 0:00:00\n",
      "Collecting trio~=0.17\n",
      "  Downloading trio-0.22.0-py3-none-any.whl (384 kB)\n",
      "     ------------------------------------ 384.9/384.9 kB 156.7 kB/s eta 0:00:00\n",
      "Collecting trio-websocket~=0.9\n",
      "  Downloading trio_websocket-0.10.2-py3-none-any.whl (17 kB)\n",
      "Collecting certifi>=2021.10.8\n",
      "  Downloading certifi-2023.5.7-py3-none-any.whl (156 kB)\n",
      "     ------------------------------------ 157.0/157.0 kB 170.6 kB/s eta 0:00:00\n",
      "Requirement already satisfied: attrs>=19.2.0 in d:\\pycharmprojects\\webscrapping\\venv\\lib\\site-packages (from trio~=0.17->selenium) (23.1.0)\n",
      "Collecting sortedcontainers\n",
      "  Downloading sortedcontainers-2.4.0-py2.py3-none-any.whl (29 kB)\n",
      "Collecting async-generator>=1.9\n",
      "  Downloading async_generator-1.10-py3-none-any.whl (18 kB)\n",
      "Requirement already satisfied: idna in d:\\pycharmprojects\\webscrapping\\venv\\lib\\site-packages (from trio~=0.17->selenium) (3.4)\n",
      "Collecting outcome\n",
      "  Downloading outcome-1.2.0-py2.py3-none-any.whl (9.7 kB)\n",
      "Requirement already satisfied: sniffio in d:\\pycharmprojects\\webscrapping\\venv\\lib\\site-packages (from trio~=0.17->selenium) (1.3.0)\n",
      "Requirement already satisfied: cffi>=1.14 in d:\\pycharmprojects\\webscrapping\\venv\\lib\\site-packages (from trio~=0.17->selenium) (1.15.1)\n",
      "Collecting exceptiongroup\n",
      "  Downloading exceptiongroup-1.1.1-py3-none-any.whl (14 kB)\n",
      "Collecting wsproto>=0.14\n",
      "  Downloading wsproto-1.2.0-py3-none-any.whl (24 kB)\n",
      "Collecting pysocks!=1.5.7,<2.0,>=1.5.6\n",
      "  Downloading PySocks-1.7.1-py3-none-any.whl (16 kB)\n",
      "Requirement already satisfied: pycparser in d:\\pycharmprojects\\webscrapping\\venv\\lib\\site-packages (from cffi>=1.14->trio~=0.17->selenium) (2.21)\n",
      "Collecting h11<1,>=0.9.0\n",
      "  Downloading h11-0.14.0-py3-none-any.whl (58 kB)\n",
      "     -------------------------------------- 58.3/58.3 kB 146.4 kB/s eta 0:00:00\n",
      "Installing collected packages: sortedcontainers, urllib3, pysocks, outcome, h11, exceptiongroup, certifi, async-generator, wsproto, trio, trio-websocket, selenium\n",
      "Successfully installed async-generator-1.10 certifi-2023.5.7 exceptiongroup-1.1.1 h11-0.14.0 outcome-1.2.0 pysocks-1.7.1 selenium-4.9.1 sortedcontainers-2.4.0 trio-0.22.0 trio-websocket-0.10.2 urllib3-2.0.2 wsproto-1.2.0\n"
     ]
    }
   ],
   "source": [
    "!pip install selenium"
   ]
  },
  {
   "cell_type": "code",
   "execution_count": 2,
   "outputs": [],
   "source": [
    "from selenium import webdriver\n",
    "from selenium.webdriver.edge.options import Options\n",
    "from selenium.webdriver.common.keys import Keys\n",
    "from selenium.webdriver.common.by import By"
   ],
   "metadata": {
    "collapsed": false,
    "ExecuteTime": {
     "start_time": "2023-05-29T13:30:35.949649Z",
     "end_time": "2023-05-29T13:30:36.232886Z"
    }
   }
  },
  {
   "cell_type": "code",
   "execution_count": 58,
   "outputs": [
    {
     "name": "stderr",
     "output_type": "stream",
     "text": [
      "C:\\Users\\MF YASYKUR\\AppData\\Local\\Temp\\ipykernel_13596\\2138332510.py:6: DeprecationWarning: executable_path has been deprecated, please pass in a Service object\n",
      "  driver = webdriver.Edge(options = edge_options, executable_path=\"./msedgedriver.exe\")\n"
     ]
    }
   ],
   "source": [
    "edge_options = Options()\n",
    "\n",
    "# edge_options.add_argument(\"--headless\")\n",
    "edge_options.add_argument(\"--incognito\")\n",
    "edge_options.add_argument('--window-size=1920,1080')\n",
    "driver = webdriver.Edge(options = edge_options, executable_path=\"./msedgedriver.exe\")\n",
    "driver.get(\"https://www.google.com/\")"
   ],
   "metadata": {
    "collapsed": false,
    "ExecuteTime": {
     "start_time": "2023-05-29T14:57:59.891423Z",
     "end_time": "2023-05-29T14:58:14.251993Z"
    }
   }
  },
  {
   "cell_type": "code",
   "execution_count": 9,
   "outputs": [],
   "source": [
    "# metode 1\n",
    "# search = driver.find_element(By.NAME, \"q\")\n",
    "# search.send_keys(\"curug telu\")"
   ],
   "metadata": {
    "collapsed": false,
    "ExecuteTime": {
     "start_time": "2023-05-29T13:47:46.940897Z",
     "end_time": "2023-05-29T13:47:47.913690Z"
    }
   }
  },
  {
   "cell_type": "code",
   "execution_count": 17,
   "outputs": [],
   "source": [
    "# metode 2\n",
    "search = driver.find_element(By.XPATH, \"/html/body/div[1]/div[3]/form/div[1]/div[1]/div[1]/div/div[2]/textarea\")\n",
    "search.send_keys(\"Safari\")"
   ],
   "metadata": {
    "collapsed": false,
    "ExecuteTime": {
     "start_time": "2023-05-29T13:53:18.985877Z",
     "end_time": "2023-05-29T13:53:19.128676Z"
    }
   }
  },
  {
   "cell_type": "code",
   "execution_count": 18,
   "outputs": [],
   "source": [
    "search.clear()\n",
    "search.send_keys(\"Hutan Limpakuwus\")\n",
    "search.send_keys(Keys.ENTER)"
   ],
   "metadata": {
    "collapsed": false,
    "ExecuteTime": {
     "start_time": "2023-05-29T13:53:20.465595Z",
     "end_time": "2023-05-29T13:53:27.138635Z"
    }
   }
  },
  {
   "cell_type": "code",
   "execution_count": 19,
   "outputs": [],
   "source": [
    "driver.execute_script(\"window.scrollTo(0, 15000);\")"
   ],
   "metadata": {
    "collapsed": false,
    "ExecuteTime": {
     "start_time": "2023-05-29T13:55:54.913531Z",
     "end_time": "2023-05-29T13:55:55.040378Z"
    }
   }
  },
  {
   "cell_type": "code",
   "execution_count": 20,
   "outputs": [
    {
     "data": {
      "text/plain": "'Limpakuwus, Kabupaten Banyumas, Jawa Tengah'"
     },
     "execution_count": 20,
     "metadata": {},
     "output_type": "execute_result"
    }
   ],
   "source": [
    "string = driver.find_element(By.XPATH, \"/html/body/div[6]/div/div[11]/div/div[1]/div[1]/div/div/div[1]/span[2]\")\n",
    "string.get_attribute(\"textContent\")"
   ],
   "metadata": {
    "collapsed": false,
    "ExecuteTime": {
     "start_time": "2023-05-29T13:57:04.249315Z",
     "end_time": "2023-05-29T13:57:04.320584Z"
    }
   }
  },
  {
   "cell_type": "code",
   "execution_count": 24,
   "outputs": [
    {
     "data": {
      "text/plain": "'Limpakuwus, Kabupaten Banyumas, Jawa Tengah'"
     },
     "execution_count": 24,
     "metadata": {},
     "output_type": "execute_result"
    }
   ],
   "source": [
    "classname = driver.find_element(By.CLASS_NAME, \"BBwThe\")\n",
    "classname.get_attribute(\"textContent\")"
   ],
   "metadata": {
    "collapsed": false,
    "ExecuteTime": {
     "start_time": "2023-05-29T14:07:18.171833Z",
     "end_time": "2023-05-29T14:07:18.230394Z"
    }
   }
  },
  {
   "cell_type": "code",
   "execution_count": 25,
   "outputs": [],
   "source": [
    "css_selector = driver.find_element(By.CSS_SELECTOR, \".BBwThe\")\n",
    "css_selector.get_attribute(\"texContent\")"
   ],
   "metadata": {
    "collapsed": false,
    "ExecuteTime": {
     "start_time": "2023-05-29T14:07:19.279836Z",
     "end_time": "2023-05-29T14:07:19.349303Z"
    }
   }
  },
  {
   "cell_type": "code",
   "execution_count": 28,
   "outputs": [
    {
     "data": {
      "text/plain": "'Hutan Pinus Limpakuwus: Jam Buka, Harga Tiket, dan ...kompas.comhttps://regional.kompas.com › read › 2022/05/16 › hu...'"
     },
     "execution_count": 28,
     "metadata": {},
     "output_type": "execute_result"
    }
   ],
   "source": [
    "click_link = driver.find_element(By.XPATH, \"/html/body/div[6]/div/div[11]/div/div[2]/div[2]/div/div/div[1]/div/div/div/div[1]/div/a\")\n",
    "click_link.click()\n",
    "click_link.get_attribute(\"textContent\")"
   ],
   "metadata": {
    "collapsed": false,
    "ExecuteTime": {
     "start_time": "2023-05-29T14:16:39.183805Z",
     "end_time": "2023-05-29T14:16:39.364530Z"
    }
   }
  },
  {
   "cell_type": "code",
   "execution_count": 67,
   "outputs": [],
   "source": [
    "# menonton video Youtube\n",
    "driver.get(\"https://www.youtube.com\")"
   ],
   "metadata": {
    "collapsed": false,
    "ExecuteTime": {
     "start_time": "2023-05-29T15:09:53.423497Z",
     "end_time": "2023-05-29T15:09:55.901099Z"
    }
   }
  },
  {
   "cell_type": "code",
   "execution_count": 68,
   "outputs": [],
   "source": [
    "youtube_search = driver.find_element(By.XPATH, \"/html/body/ytd-app/div[1]/div/ytd-masthead/div[4]/div[2]/ytd-searchbox/form/div[1]/div[1]/input\")\n",
    "youtube_search.clear()\n",
    "youtube_search.send_keys(\"it telkom pwt\")\n",
    "youtube_search.send_keys(Keys.ENTER)"
   ],
   "metadata": {
    "collapsed": false,
    "ExecuteTime": {
     "start_time": "2023-05-29T15:09:58.069105Z",
     "end_time": "2023-05-29T15:09:58.776692Z"
    }
   }
  },
  {
   "cell_type": "code",
   "execution_count": 65,
   "outputs": [
    {
     "name": "stdout",
     "output_type": "stream",
     "text": [
      "Mlaku - Mlaku Santuy Dies Natalis ke-21 ITTP bersama Novi Sasmita\n"
     ]
    }
   ],
   "source": [
    "# click_link = driver.find_element(By.XPATH, \"/html/body/ytd-app/div[1]/ytd-page-manager/ytd-search/div[1]/ytd-two-column-search-results-renderer/div/ytd-section-list-renderer/div[2]/ytd-item-section-renderer/div[3]/ytd-shelf-renderer[1]/div[1]/div[2]/ytd-vertical-list-renderer/div[1]/ytd-video-renderer[1]/div[1]/div/div[1]/div/h3/a\")\n",
    "# click_link.click()\n",
    "# print(click_link.text)"
   ],
   "metadata": {
    "collapsed": false,
    "ExecuteTime": {
     "start_time": "2023-05-29T15:00:12.862249Z",
     "end_time": "2023-05-29T15:00:13.092106Z"
    }
   }
  },
  {
   "cell_type": "code",
   "execution_count": 53,
   "outputs": [],
   "source": [
    "# fullscreen_button = driver.find_element(By.XPATH, \"/html/body/ytd-app/div[1]/ytd-page-manager/ytd-watch-flexy/div[5]/div[1]/div/div[1]/div[2]/div/div/ytd-player/div/div/div[28]/div[2]/div[2]/button[9]\")\n",
    "# fullscreen_button.click()"
   ],
   "metadata": {
    "collapsed": false,
    "ExecuteTime": {
     "start_time": "2023-05-29T14:44:42.944551Z",
     "end_time": "2023-05-29T14:44:43.870621Z"
    }
   }
  },
  {
   "cell_type": "code",
   "execution_count": 69,
   "outputs": [
    {
     "name": "stdout",
     "output_type": "stream",
     "text": [
      "Video ditemukan Latest from ittelkompurwokerto\n",
      "1:12\n",
      "Mlaku - Mlaku Santuy Dies Natalis ke-21 ITTP bersama Novi Sasmita\n",
      "76 views\n",
      "6 days ago\n",
      "ittelkompurwokerto\n",
      "Follow IG: https://www.instagram.com/ittelkompurwokerto/ https://www.instagram.com/pmb_ittelkompurwokerto/ Info Pendaftaran: ...\n",
      "New\n",
      "2:48\n",
      "MERAMU LENGGER SIGNAL ANGKASA - Venzha Chris - Dies Natalis ITTP 21\n",
      "48 views\n",
      "7 days ago\n",
      "ittelkompurwokerto\n",
      "Spesial performance by Venzha Chris ft Rumah Lengger Banyumas @Kota Lama, Banyumas Nantikan closing ceremony Dies ...\n",
      "+8 More\n"
     ]
    }
   ],
   "source": [
    "link_elements = driver.find_elements(By.XPATH, \"/html/body/ytd-app/div[1]/ytd-page-manager/ytd-search/div[1]/ytd-two-column-search-results-renderer/div/ytd-section-list-renderer/div[2]/ytd-item-section-renderer/div[3]/ytd-shelf-renderer[1]/div[1]\")\n",
    "\n",
    "for link_element in link_elements:\n",
    "    title = link_element.text\n",
    "    judul_video = \"Mlaku - Mlaku Santuy Dies Natalis ke-21 ITTP bersama Novi Sasmita\"\n",
    "    if judul_video in title:\n",
    "        print(\"Video ditemukan\")\n",
    "        link_element.click()"
   ],
   "metadata": {
    "collapsed": false,
    "ExecuteTime": {
     "start_time": "2023-05-29T15:10:17.817497Z",
     "end_time": "2023-05-29T15:10:18.268396Z"
    }
   }
  },
  {
   "cell_type": "code",
   "execution_count": null,
   "outputs": [],
   "source": [],
   "metadata": {
    "collapsed": false
   }
  }
 ],
 "metadata": {
  "kernelspec": {
   "display_name": "Python 3",
   "language": "python",
   "name": "python3"
  },
  "language_info": {
   "codemirror_mode": {
    "name": "ipython",
    "version": 2
   },
   "file_extension": ".py",
   "mimetype": "text/x-python",
   "name": "python",
   "nbconvert_exporter": "python",
   "pygments_lexer": "ipython2",
   "version": "2.7.6"
  }
 },
 "nbformat": 4,
 "nbformat_minor": 0
}
